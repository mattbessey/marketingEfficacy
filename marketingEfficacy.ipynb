{
 "cells": [
  {
   "cell_type": "code",
   "execution_count": 1,
   "metadata": {},
   "outputs": [],
   "source": [
    "import pandas as pd\n",
    "import numpy as np\n",
    "from sqlalchemy import create_engine\n",
    "from pandas.io import sql\n",
    "import snowflake.connector\n",
    "import keyring\n",
    "import psycopg2 \n",
    "import time\n",
    "from datetime import date, timedelta\n",
    "from scipy import stats\n",
    "\n",
    "pd.set_option('display.max_colwidth', 50)\n",
    "pd.set_option('display.max_columns', 500)\n",
    "\n",
    "from matplotlib import pyplot as plt\n",
    "import seaborn as sns\n",
    "color = sns.color_palette()\n",
    "%matplotlib inline\n",
    "sns.set_style(\"darkgrid\")"
   ]
  },
  {
   "cell_type": "code",
   "execution_count": 3,
   "metadata": {},
   "outputs": [],
   "source": [
    "snowflake_username = 'matthew.bessey@disneystreaming.com'"
   ]
  },
  {
   "cell_type": "code",
   "execution_count": 4,
   "metadata": {},
   "outputs": [
    {
     "name": "stdout",
     "output_type": "stream",
     "text": [
      "Initiating login request with your identity provider. A browser window should have opened for you to complete the login. If you can't see it, check existing browser windows, or your OS settings. Press CTRL+C to abort and try again...\n"
     ]
    }
   ],
   "source": [
    "ctx = snowflake.connector.connect(authenticator='externalbrowser', \n",
    "                                  user=snowflake_username, \n",
    "                                  account='disneystreaming.us-east-1')"
   ]
  },
  {
   "cell_type": "code",
   "execution_count": 1,
   "metadata": {},
   "outputs": [],
   "source": [
    "# set date parameters for query\n",
    "\n",
    "subscription_start_date_min = \"'2019-12-01'\"\n",
    "subscription_start_date_max = \"'2019-12-30'\" # max of subscription start date\n",
    "engagement_date = \"'2020-02-07'\" # date for which we want to pull engagement behaviors\n",
    "sample_size = 100"
   ]
  },
  {
   "cell_type": "code",
   "execution_count": 47,
   "metadata": {},
   "outputs": [],
   "source": [
    "query= \"\"\"\n",
    "select \n",
    "o.swid\n",
    ", o.swid_holdout\n",
    ", e.*\n",
    "from \"DSS_PROD\".\"DSS\".\"SFMC_ACCOUNT_SWID_MAP\" a\n",
    "join oneid_combined o on a.swid = o.swid\n",
    "join \"DSS_PROD\".\"DISNEY_PLUS\".\"DIM_DISNEY_DAILY_ACCOUNT_ENGAGEMENT\" e on a.account_id = e.account_id\n",
    "where e.LAST_ACCOUNT_SUBSCRIPTION_SIGNUP_DATE >= {}\n",
    "and e.LAST_ACCOUNT_SUBSCRIPTION_SIGNUP_DATE <= {}\n",
    "and e.ds = {}\n",
    "and e.is_pre_launch != 1\n",
    "limit 1000000;\n",
    "\"\"\".format(subscription_start_date_min, subscription_start_date_max, engagement_date,sample_SIZE)"
   ]
  },
  {
   "cell_type": "code",
   "execution_count": 48,
   "metadata": {},
   "outputs": [],
   "source": [
    "# run the query and write to engagement\n",
    "engagement = pd.read_sql(query,ctx)"
   ]
  },
  {
   "cell_type": "code",
   "execution_count": 49,
   "metadata": {},
   "outputs": [],
   "source": [
    "# map columns to lowercase\n",
    "engagement.columns = engagement.columns.str.lower()"
   ]
  },
  {
   "cell_type": "code",
   "execution_count": 50,
   "metadata": {},
   "outputs": [],
   "source": [
    "# create function and apply for mapping of holdout groups on 'swid_holdout'\n",
    "def holdout_grouping(df):\n",
    "    if df['swid_holdout'] < 243:\n",
    "        return \"all marketing\"\n",
    "    elif df['swid_holdout'] >= 243 and df['swid_holdout'] < 246:\n",
    "        return \"no onboarding\"\n",
    "    else:\n",
    "        return \"no marketing\"\n",
    "    \n",
    "engagement['marketing_holdout'] = engagement.apply(holdout_grouping,axis=1)"
   ]
  },
  {
   "cell_type": "code",
   "execution_count": 51,
   "metadata": {},
   "outputs": [],
   "source": [
    "#drop rows w/ no entitlement data, rewrite as int\n",
    "engagement = engagement.drop(engagement[engagement['is_entitled']=='unknown'].index,axis=0)\n",
    "engagement.is_entitled = engagement.is_entitled.astype(int)"
   ]
  },
  {
   "cell_type": "code",
   "execution_count": 52,
   "metadata": {},
   "outputs": [],
   "source": [
    "# remove non-US countries and then country column\n",
    "countryUS_filter = engagement['account_home_country'] == 'US'\n",
    "engagementCleaned = engagement[countryUS_filter]\n",
    "engagementCleaned = engagementCleaned.drop('account_home_country',axis=1)"
   ]
  },
  {
   "cell_type": "code",
   "execution_count": 53,
   "metadata": {},
   "outputs": [],
   "source": [
    "# remove unnecessary columns\n",
    "columnsToRemove = ['swid','swid_holdout','ds','account_id','is_flagged','first_account_subscription_signup_week',\n",
    "    'last_account_subscription_signup_week','is_entitled_l1','is_entitled_l7','is_entitled_l28','is_entitled_itd',\n",
    "    'is_pre_launch','is_pre_launch_nltt','account_home_country','subscription_state_upd','subscription_type',\n",
    "    'total_login_days_l1','total_login_days_l28','total_streams_l1','total_streams_l28','num_streaming_profiles_l1',\n",
    "    'num_streaming_profiles_l28','num_general_streaming_profiles_l1','num_general_streaming_profiles_l28',\n",
    "    'num_kids_streaming_profiles_l1','num_kids_streaming_profiles_l28','num_streaming_devices_l1','num_streaming_devices_l28',\n",
    "    'account_total_stream_days_l1','account_total_stream_days_l28','account_profile_total_stream_days_l1',\n",
    "    'account_profile_total_stream_days_l28','total_stream_days_general_profiles_l1','total_stream_days_general_profiles_l28',\n",
    "    'total_stream_days_kids_profiles_l1','total_stream_days_kids_profiles_l28','total_stream_time_ms_l1','total_stream_time_ms_l28',\n",
    "    'total_stream_time_general_profiles_ms_l1','total_stream_time_general_profiles_ms_l28','total_stream_time_kids_profiles_ms_l1',\n",
    "    'total_stream_time_kids_profiles_ms_l28','total_stream_time_web_ms_l1','total_stream_time_web_ms_l28','total_stream_time_mobile_ms_l1',\n",
    "    'total_stream_time_mobile_ms_l28','total_stream_time_connected_tv_ms_l1','total_stream_time_connected_tv_ms_l28',\n",
    "    'total_stream_time_unknown_ms_l1','total_stream_time_unknown_ms_l28','last_stream_date','account_profile_total_stream_days_l7',\n",
    "    'account_profile_total_stream_days_itd','total_stream_time_unknown_ms_l7','total_stream_time_unknown_ms_itd'\n",
    "]\n",
    "\n",
    "engagementCleaned = engagement.drop(columnsToRemove,axis=1)"
   ]
  },
  {
   "cell_type": "code",
   "execution_count": 54,
   "metadata": {},
   "outputs": [],
   "source": [
    "renamedColumns = ['first_signup_date','last_signup_date', 'is_entitled','ttl_login_days_l7', 'ttl_login_days_itd', 'ttl_streams_l7',\n",
    "    'ttl_streams_itd', 'streaming_profiles_l7','streaming_profiles_itd', 'general_streaming_profiles_l7','general_streaming_profiles_itd', \n",
    "    'kids_streaming_profiles_l7','kids_streaming_profiles_itd', 'streaming_devices_l7','streaming_devices_itd', 'ttl_stream_days_l7',\n",
    "    'ttl_stream_days_itd','ttl_stream_days_general_profiles_l7','ttl_stream_days_general_profiles_itd','ttl_stream_days_kids_profiles_l7',\n",
    "    'ttl_stream_days_kids_profiles_itd', 'ttl_stream_time_ms_l7','ttl_stream_time_ms_itd', 'ttl_stream_time_general_profiles_ms_l7',\n",
    "    'ttl_stream_time_general_profiles_ms_itd','ttl_stream_time_kids_profiles_ms_l7','ttl_stream_time_kids_profiles_ms_itd', \n",
    "    'ttl_stream_time_web_ms_l7','ttl_stream_time_web_ms_itd', 'ttl_stream_time_mobile_ms_l7','ttl_stream_time_mobile_ms_itd',\n",
    "    'ttl_stream_time_connected_tv_ms_l7','tl_stream_time_connected_tv_ms_itd', 'days_since_last_stream','marketing_holdout'\n",
    "]\n",
    "\n",
    "engagementCleaned.columns = renamedColumns"
   ]
  },
  {
   "cell_type": "code",
   "execution_count": 55,
   "metadata": {},
   "outputs": [],
   "source": [
    "# rename for conciseness\n",
    "engmt = engagementCleaned\n",
    "del engagementCleaned\n",
    "del engagement"
   ]
  },
  {
   "cell_type": "code",
   "execution_count": 56,
   "metadata": {},
   "outputs": [],
   "source": [
    "# define columns for binary construction\n",
    "# binary = 1 if action occurred in interval, else 0\n",
    "\n",
    "binaryConstructionList = [\n",
    "    'ttl_login_days_l7','ttl_login_days_itd','ttl_streams_l7','ttl_streams_itd','general_streaming_profiles_l7', \n",
    "    'general_streaming_profiles_itd','kids_streaming_profiles_l7', 'kids_streaming_profiles_itd','ttl_stream_time_web_ms_l7',\n",
    "    'ttl_stream_time_web_ms_itd','ttl_stream_time_mobile_ms_l7','ttl_stream_time_mobile_ms_itd', 'ttl_stream_time_connected_tv_ms_l7',\n",
    "    'tl_stream_time_connected_tv_ms_itd','days_since_last_stream'\n",
    "]"
   ]
  },
  {
   "cell_type": "code",
   "execution_count": 57,
   "metadata": {},
   "outputs": [],
   "source": [
    "# create binary variables _bin\n",
    "for i in binaryConstructionList:\n",
    "    engmt[i + '_bin'] = engmt.apply(lambda df:\n",
    "                                   1 if df[i] > 0\n",
    "                                   else 0,\n",
    "                                   axis=1)"
   ]
  },
  {
   "cell_type": "code",
   "execution_count": 39,
   "metadata": {},
   "outputs": [],
   "source": [
    "#engmt.groupby('marketing_holdout').mean()"
   ]
  },
  {
   "cell_type": "code",
   "execution_count": 58,
   "metadata": {},
   "outputs": [],
   "source": [
    "marketing = engmt[engmt['marketing_holdout'] == 'all marketing']\n",
    "holdout = engmt[engmt['marketing_holdout'] == 'no marketing']\n",
    "onboarding_holdout = engmt[engmt['marketing_holdout'] == 'no onboarding']"
   ]
  },
  {
   "cell_type": "code",
   "execution_count": 59,
   "metadata": {},
   "outputs": [],
   "source": [
    "test_columns = [\n",
    "    'is_entitled','ttl_login_days_l7', 'ttl_login_days_itd', 'ttl_streams_l7','ttl_streams_itd',\n",
    "    'streaming_profiles_l7', 'streaming_profiles_itd','general_streaming_profiles_l7', 'general_streaming_profiles_itd',\n",
    "    'kids_streaming_profiles_l7', 'kids_streaming_profiles_itd','streaming_devices_l7', 'streaming_devices_itd', 'ttl_stream_days_l7',\n",
    "    'ttl_stream_days_itd', 'ttl_stream_days_general_profiles_l7','ttl_stream_days_general_profiles_itd','ttl_stream_days_kids_profiles_l7', \n",
    "    'ttl_stream_days_kids_profiles_itd','ttl_stream_time_ms_l7', 'ttl_stream_time_ms_itd','ttl_stream_time_general_profiles_ms_l7',\n",
    "    'ttl_stream_time_general_profiles_ms_itd','ttl_stream_time_kids_profiles_ms_l7','ttl_stream_time_kids_profiles_ms_itd', \n",
    "    'ttl_stream_time_web_ms_l7','ttl_stream_time_web_ms_itd', 'ttl_stream_time_mobile_ms_l7','ttl_stream_time_mobile_ms_itd', \n",
    "    'ttl_stream_time_connected_tv_ms_l7','tl_stream_time_connected_tv_ms_itd','days_since_last_stream','ttl_login_days_l7_bin', \n",
    "    'ttl_login_days_itd_bin','ttl_streams_l7_bin','ttl_streams_itd_bin','general_streaming_profiles_l7_bin',\n",
    "    'general_streaming_profiles_itd_bin','kids_streaming_profiles_l7_bin','kids_streaming_profiles_itd_bin', 'ttl_stream_time_web_ms_l7_bin',\n",
    "    'ttl_stream_time_web_ms_itd_bin', 'ttl_stream_time_mobile_ms_l7_bin','ttl_stream_time_mobile_ms_itd_bin',\n",
    "    'ttl_stream_time_connected_tv_ms_l7_bin','tl_stream_time_connected_tv_ms_itd_bin', 'days_since_last_stream_bin'\n",
    "]"
   ]
  },
  {
   "cell_type": "code",
   "execution_count": 64,
   "metadata": {},
   "outputs": [],
   "source": [
    "\n",
    "p_values = {}\n",
    "\n",
    "for i in test_columns:\n",
    "    try: \n",
    "        p1 = stats.ttest_ind(holdout[i], onboarding_holdout[i])[1]\n",
    "        descr1 = marketing[i]\n",
    "    except (TypeError,RuntimeWarning): \n",
    "        p1 = \"Broke!\"\n",
    "    p_values[i] = p1\n",
    "    #print(\"Completed\",i)\n",
    "\n"
   ]
  },
  {
   "cell_type": "code",
   "execution_count": 65,
   "metadata": {},
   "outputs": [
    {
     "data": {
      "text/plain": [
       "{'is_entitled': 0.10972018810194084,\n",
       " 'ttl_login_days_l7': 0.09133278328744919,\n",
       " 'ttl_login_days_itd': 0.0022498696767813938,\n",
       " 'ttl_streams_l7': 0.014910444900101412,\n",
       " 'ttl_streams_itd': 0.0006697142296682904,\n",
       " 'streaming_profiles_l7': 0.03572585297881499,\n",
       " 'streaming_profiles_itd': 0.179802910846608,\n",
       " 'general_streaming_profiles_l7': 0.06837528234354484,\n",
       " 'general_streaming_profiles_itd': 0.22486517483133403,\n",
       " 'kids_streaming_profiles_l7': 0.1272454017650203,\n",
       " 'kids_streaming_profiles_itd': 0.18215249917710116,\n",
       " 'streaming_devices_l7': 0.21805855082126,\n",
       " 'streaming_devices_itd': 0.3964244198487905,\n",
       " 'ttl_stream_days_l7': 0.0714642213844802,\n",
       " 'ttl_stream_days_itd': 0.0005353122222712267,\n",
       " 'ttl_stream_days_general_profiles_l7': 0.047053597534944515,\n",
       " 'ttl_stream_days_general_profiles_itd': 0.000845689000265495,\n",
       " 'ttl_stream_days_kids_profiles_l7': 0.0842871185543075,\n",
       " 'ttl_stream_days_kids_profiles_itd': 0.05582459856150555,\n",
       " 'ttl_stream_time_ms_l7': 0.04093073561361931,\n",
       " 'ttl_stream_time_ms_itd': 0.000821401426296044,\n",
       " 'ttl_stream_time_general_profiles_ms_l7': 0.0797939475816276,\n",
       " 'ttl_stream_time_general_profiles_ms_itd': 0.002735603982342344,\n",
       " 'ttl_stream_time_kids_profiles_ms_l7': 0.0929090883105824,\n",
       " 'ttl_stream_time_kids_profiles_ms_itd': 0.010849553190638066,\n",
       " 'ttl_stream_time_web_ms_l7': nan,\n",
       " 'ttl_stream_time_web_ms_itd': nan,\n",
       " 'ttl_stream_time_mobile_ms_l7': nan,\n",
       " 'ttl_stream_time_mobile_ms_itd': nan,\n",
       " 'ttl_stream_time_connected_tv_ms_l7': nan,\n",
       " 'tl_stream_time_connected_tv_ms_itd': nan,\n",
       " 'days_since_last_stream': nan,\n",
       " 'ttl_login_days_l7_bin': 0.20617125632575584,\n",
       " 'ttl_login_days_itd_bin': nan,\n",
       " 'ttl_streams_l7_bin': 0.07579241709511027,\n",
       " 'ttl_streams_itd_bin': 0.7833379354121381,\n",
       " 'general_streaming_profiles_l7_bin': 0.11921153347477809,\n",
       " 'general_streaming_profiles_itd_bin': 0.7533706196168592,\n",
       " 'kids_streaming_profiles_l7_bin': 0.09361675356241865,\n",
       " 'kids_streaming_profiles_itd_bin': 0.06161303770037111,\n",
       " 'ttl_stream_time_web_ms_l7_bin': nan,\n",
       " 'ttl_stream_time_web_ms_itd_bin': nan,\n",
       " 'ttl_stream_time_mobile_ms_l7_bin': nan,\n",
       " 'ttl_stream_time_mobile_ms_itd_bin': nan,\n",
       " 'ttl_stream_time_connected_tv_ms_l7_bin': nan,\n",
       " 'tl_stream_time_connected_tv_ms_itd_bin': nan,\n",
       " 'days_since_last_stream_bin': 0.06288874824755519}"
      ]
     },
     "execution_count": 65,
     "metadata": {},
     "output_type": "execute_result"
    }
   ],
   "source": [
    "p_values"
   ]
  },
  {
   "cell_type": "code",
   "execution_count": 67,
   "metadata": {},
   "outputs": [
    {
     "data": {
      "text/plain": [
       "0.9778125119219321"
      ]
     },
     "execution_count": 67,
     "metadata": {},
     "output_type": "execute_result"
    }
   ],
   "source": [
    "holdout['ttl_login_days_itd'].mean()/onboarding_holdout['ttl_login_days_itd'].mean()"
   ]
  }
 ],
 "metadata": {
  "kernelspec": {
   "display_name": "Python 3",
   "language": "python",
   "name": "python3"
  },
  "language_info": {
   "codemirror_mode": {
    "name": "ipython",
    "version": 3
   },
   "file_extension": ".py",
   "mimetype": "text/x-python",
   "name": "python",
   "nbconvert_exporter": "python",
   "pygments_lexer": "ipython3",
   "version": "3.7.4"
  }
 },
 "nbformat": 4,
 "nbformat_minor": 2
}
