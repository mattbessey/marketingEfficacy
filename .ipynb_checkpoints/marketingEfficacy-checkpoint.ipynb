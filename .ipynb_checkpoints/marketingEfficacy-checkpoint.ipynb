{
 "cells": [
  {
   "cell_type": "code",
   "execution_count": 1,
   "metadata": {},
   "outputs": [],
   "source": [
    "import pandas as pd\n",
    "import numpy as np\n",
    "from sqlalchemy import create_engine\n",
    "from pandas.io import sql\n",
    "import snowflake.connector\n",
    "import keyring\n",
    "import psycopg2 \n",
    "import time\n",
    "from datetime import date, timedelta\n",
    "\n",
    "pd.set_option('display.max_colwidth', 50)\n",
    "pd.set_option('display.max_columns', 500)\n",
    "\n",
    "from matplotlib import pyplot as plt\n",
    "import seaborn as sns\n",
    "color = sns.color_palette()\n",
    "%matplotlib inline\n",
    "sns.set_style(\"darkgrid\")"
   ]
  },
  {
   "cell_type": "code",
   "execution_count": 2,
   "metadata": {},
   "outputs": [],
   "source": [
    "snowflake_username = 'matthew.bessey@disneystreaming.com'"
   ]
  },
  {
   "cell_type": "code",
   "execution_count": 3,
   "metadata": {},
   "outputs": [
    {
     "name": "stdout",
     "output_type": "stream",
     "text": [
      "Initiating login request with your identity provider. A browser window should have opened for you to complete the login. If you can't see it, check existing browser windows, or your OS settings. Press CTRL+C to abort and try again...\n"
     ]
    }
   ],
   "source": [
    "ctx = snowflake.connector.connect(authenticator='externalbrowser', \n",
    "                                  user=snowflake_username, \n",
    "                                  account='disneystreaming.us-east-1')"
   ]
  },
  {
   "cell_type": "code",
   "execution_count": 7,
   "metadata": {},
   "outputs": [],
   "source": [
    "query = \"\"\"\n",
    "select o.swid\n",
    ", o.swid_holdout\n",
    ", a.accountid\n",
    ", s.subscription_id\n",
    ", e.TOTAL_STREAMS_L1\n",
    ", e.total_streams_l7\n",
    ", e.is_entitled\n",
    ", e.NUM_STREAMING_DEVICES_L7\n",
    "from subscription s\n",
    "join account a on a.accountid = s.account_id\n",
    "join oneid_combined o on a.swid = o.swid\n",
    "join \"DSS_PROD\".\"DISNEY_PLUS\".\"DIM_DISNEY_DAILY_ACCOUNT_ENGAGEMENT\" e on a.accountid = e.account_id\n",
    "where s.partner = 'disney'\n",
    "--and s.is_entitled = 1\n",
    "and e.ds = '2019-12-12'\n",
    "limit 1000000;\n",
    "\"\"\""
   ]
  },
  {
   "cell_type": "code",
   "execution_count": 8,
   "metadata": {},
   "outputs": [],
   "source": [
    "engagement = pd.read_sql(query,ctx)"
   ]
  },
  {
   "cell_type": "code",
   "execution_count": 9,
   "metadata": {},
   "outputs": [],
   "source": [
    "engagement.columns = engagement.columns.str.lower()"
   ]
  },
  {
   "cell_type": "code",
   "execution_count": 10,
   "metadata": {},
   "outputs": [],
   "source": [
    "def holdout_grouping(df):\n",
    "    if df['swid_holdout'] < 243:\n",
    "        return \"all marketing\"\n",
    "    elif df['swid_holdout'] >= 243 and df['swid_holdout'] < 245:\n",
    "        return \"no onboarding\"\n",
    "    else:\n",
    "        return \"no marketing\""
   ]
  },
  {
   "cell_type": "code",
   "execution_count": 11,
   "metadata": {},
   "outputs": [],
   "source": [
    "engagement['marketing_holdout'] = engagement.apply(holdout_grouping,axis=1)\n",
    "#engagement.loc[engagement.swid_holdout < 244,'marketing_holdout'] = 'all marketing'\n",
    "#engagement.loc[(engagement.swid_holdout >= 244) & \n",
    "#               (engagement.swid_holdout < 260),'marketing_holdout'] = 'no onboarding'"
   ]
  },
  {
   "cell_type": "code",
   "execution_count": 44,
   "metadata": {},
   "outputs": [
    {
     "data": {
      "text/html": [
       "<div>\n",
       "<style scoped>\n",
       "    .dataframe tbody tr th:only-of-type {\n",
       "        vertical-align: middle;\n",
       "    }\n",
       "\n",
       "    .dataframe tbody tr th {\n",
       "        vertical-align: top;\n",
       "    }\n",
       "\n",
       "    .dataframe thead th {\n",
       "        text-align: right;\n",
       "    }\n",
       "</style>\n",
       "<table border=\"1\" class=\"dataframe\">\n",
       "  <thead>\n",
       "    <tr style=\"text-align: right;\">\n",
       "      <th></th>\n",
       "      <th>swid</th>\n",
       "      <th>swid_holdout</th>\n",
       "      <th>accountid</th>\n",
       "      <th>subscription_id</th>\n",
       "      <th>total_streams_l1</th>\n",
       "      <th>total_streams_l7</th>\n",
       "      <th>is_entitled</th>\n",
       "      <th>num_streaming_devices_l7</th>\n",
       "      <th>marketing_holdout</th>\n",
       "    </tr>\n",
       "  </thead>\n",
       "  <tbody>\n",
       "    <tr>\n",
       "      <th>0</th>\n",
       "      <td>{A79DCC2F-32C7-4690-83AA-7B288A30A158}</td>\n",
       "      <td>83</td>\n",
       "      <td>690d5b92-8f1b-49c9-be47-b80ad45931c5</td>\n",
       "      <td>D2C:BAMTECH:urn:dss:disney:orders:94452df4-6dd...</td>\n",
       "      <td>0</td>\n",
       "      <td>1</td>\n",
       "      <td>1</td>\n",
       "      <td>1</td>\n",
       "      <td>all marketing</td>\n",
       "    </tr>\n",
       "    <tr>\n",
       "      <th>1</th>\n",
       "      <td>{A7A69657-7334-4FEE-81A6-B8ADBA1D34DB}</td>\n",
       "      <td>23</td>\n",
       "      <td>794687de-12d7-47e2-a59a-8f5b31f4bc69</td>\n",
       "      <td>D2C:BAMTECH:urn:dss:disney:orders:5d4eee57-853...</td>\n",
       "      <td>0</td>\n",
       "      <td>0</td>\n",
       "      <td>1</td>\n",
       "      <td>0</td>\n",
       "      <td>all marketing</td>\n",
       "    </tr>\n",
       "    <tr>\n",
       "      <th>2</th>\n",
       "      <td>{A83260A8-AF04-4AC6-A640-2A8BAB1CBF79}</td>\n",
       "      <td>91</td>\n",
       "      <td>affcefe5-5098-4da3-8318-e2399be981bd</td>\n",
       "      <td>IAP:APPLE:290000514584786</td>\n",
       "      <td>0</td>\n",
       "      <td>3</td>\n",
       "      <td>1</td>\n",
       "      <td>1</td>\n",
       "      <td>all marketing</td>\n",
       "    </tr>\n",
       "    <tr>\n",
       "      <th>3</th>\n",
       "      <td>{A84482F8-68C8-496C-95EA-C4711556AD6A}</td>\n",
       "      <td>239</td>\n",
       "      <td>abe15aa0-3ff7-447e-b199-7b1c0ba23d54</td>\n",
       "      <td>EXT:VERIZON:VR-DB8RPXCMRMND8BV6</td>\n",
       "      <td>0</td>\n",
       "      <td>0</td>\n",
       "      <td>1</td>\n",
       "      <td>0</td>\n",
       "      <td>all marketing</td>\n",
       "    </tr>\n",
       "    <tr>\n",
       "      <th>4</th>\n",
       "      <td>{A863BBE9-0EE9-43CC-BF75-C970A46ED5B1}</td>\n",
       "      <td>188</td>\n",
       "      <td>5e1a226f-05ef-496e-9d05-86929c680957</td>\n",
       "      <td>D2C:BAMTECH:urn:dss:disney:orders:34f18959-11d...</td>\n",
       "      <td>0</td>\n",
       "      <td>7</td>\n",
       "      <td>1</td>\n",
       "      <td>2</td>\n",
       "      <td>all marketing</td>\n",
       "    </tr>\n",
       "  </tbody>\n",
       "</table>\n",
       "</div>"
      ],
      "text/plain": [
       "                                     swid  swid_holdout  \\\n",
       "0  {A79DCC2F-32C7-4690-83AA-7B288A30A158}            83   \n",
       "1  {A7A69657-7334-4FEE-81A6-B8ADBA1D34DB}            23   \n",
       "2  {A83260A8-AF04-4AC6-A640-2A8BAB1CBF79}            91   \n",
       "3  {A84482F8-68C8-496C-95EA-C4711556AD6A}           239   \n",
       "4  {A863BBE9-0EE9-43CC-BF75-C970A46ED5B1}           188   \n",
       "\n",
       "                              accountid  \\\n",
       "0  690d5b92-8f1b-49c9-be47-b80ad45931c5   \n",
       "1  794687de-12d7-47e2-a59a-8f5b31f4bc69   \n",
       "2  affcefe5-5098-4da3-8318-e2399be981bd   \n",
       "3  abe15aa0-3ff7-447e-b199-7b1c0ba23d54   \n",
       "4  5e1a226f-05ef-496e-9d05-86929c680957   \n",
       "\n",
       "                                     subscription_id  total_streams_l1  \\\n",
       "0  D2C:BAMTECH:urn:dss:disney:orders:94452df4-6dd...                 0   \n",
       "1  D2C:BAMTECH:urn:dss:disney:orders:5d4eee57-853...                 0   \n",
       "2                          IAP:APPLE:290000514584786                 0   \n",
       "3                    EXT:VERIZON:VR-DB8RPXCMRMND8BV6                 0   \n",
       "4  D2C:BAMTECH:urn:dss:disney:orders:34f18959-11d...                 0   \n",
       "\n",
       "   total_streams_l7 is_entitled  num_streaming_devices_l7 marketing_holdout  \n",
       "0                 1           1                         1     all marketing  \n",
       "1                 0           1                         0     all marketing  \n",
       "2                 3           1                         1     all marketing  \n",
       "3                 0           1                         0     all marketing  \n",
       "4                 7           1                         2     all marketing  "
      ]
     },
     "execution_count": 44,
     "metadata": {},
     "output_type": "execute_result"
    }
   ],
   "source": [
    "engagement.head()"
   ]
  },
  {
   "cell_type": "code",
   "execution_count": 12,
   "metadata": {},
   "outputs": [
    {
     "data": {
      "text/html": [
       "<div>\n",
       "<style scoped>\n",
       "    .dataframe tbody tr th:only-of-type {\n",
       "        vertical-align: middle;\n",
       "    }\n",
       "\n",
       "    .dataframe tbody tr th {\n",
       "        vertical-align: top;\n",
       "    }\n",
       "\n",
       "    .dataframe thead th {\n",
       "        text-align: right;\n",
       "    }\n",
       "</style>\n",
       "<table border=\"1\" class=\"dataframe\">\n",
       "  <thead>\n",
       "    <tr style=\"text-align: right;\">\n",
       "      <th></th>\n",
       "      <th>swid_holdout</th>\n",
       "      <th>total_streams_l1</th>\n",
       "      <th>total_streams_l7</th>\n",
       "      <th>num_streaming_devices_l7</th>\n",
       "    </tr>\n",
       "    <tr>\n",
       "      <th>marketing_holdout</th>\n",
       "      <th></th>\n",
       "      <th></th>\n",
       "      <th></th>\n",
       "      <th></th>\n",
       "    </tr>\n",
       "  </thead>\n",
       "  <tbody>\n",
       "    <tr>\n",
       "      <th>all marketing</th>\n",
       "      <td>120.989641</td>\n",
       "      <td>1.961209</td>\n",
       "      <td>15.839881</td>\n",
       "      <td>1.654915</td>\n",
       "    </tr>\n",
       "    <tr>\n",
       "      <th>no marketing</th>\n",
       "      <td>250.016855</td>\n",
       "      <td>1.948920</td>\n",
       "      <td>15.773456</td>\n",
       "      <td>1.643166</td>\n",
       "    </tr>\n",
       "    <tr>\n",
       "      <th>no onboarding</th>\n",
       "      <td>243.497691</td>\n",
       "      <td>1.977932</td>\n",
       "      <td>15.828586</td>\n",
       "      <td>1.637028</td>\n",
       "    </tr>\n",
       "  </tbody>\n",
       "</table>\n",
       "</div>"
      ],
      "text/plain": [
       "                   swid_holdout  total_streams_l1  total_streams_l7  \\\n",
       "marketing_holdout                                                     \n",
       "all marketing        120.989641          1.961209         15.839881   \n",
       "no marketing         250.016855          1.948920         15.773456   \n",
       "no onboarding        243.497691          1.977932         15.828586   \n",
       "\n",
       "                   num_streaming_devices_l7  \n",
       "marketing_holdout                            \n",
       "all marketing                      1.654915  \n",
       "no marketing                       1.643166  \n",
       "no onboarding                      1.637028  "
      ]
     },
     "execution_count": 12,
     "metadata": {},
     "output_type": "execute_result"
    }
   ],
   "source": [
    "engagement.groupby(['marketing_holdout']).mean()"
   ]
  }
 ],
 "metadata": {
  "kernelspec": {
   "display_name": "Python 3",
   "language": "python",
   "name": "python3"
  },
  "language_info": {
   "codemirror_mode": {
    "name": "ipython",
    "version": 3
   },
   "file_extension": ".py",
   "mimetype": "text/x-python",
   "name": "python",
   "nbconvert_exporter": "python",
   "pygments_lexer": "ipython3",
   "version": "3.7.0"
  }
 },
 "nbformat": 4,
 "nbformat_minor": 2
}
