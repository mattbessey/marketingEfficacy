{
 "cells": [
  {
   "cell_type": "code",
   "execution_count": 17,
   "metadata": {},
   "outputs": [],
   "source": [
    "import pandas as pd\n",
    "import numpy as np\n",
    "from sqlalchemy import create_engine\n",
    "from pandas.io import sql\n",
    "import snowflake.connector\n",
    "import keyring\n",
    "import psycopg2 \n",
    "import time\n",
    "from datetime import date, timedelta\n",
    "from scipy import stats\n",
    "\n",
    "pd.set_option('display.max_colwidth', 50)\n",
    "pd.set_option('display.max_columns', 500)\n",
    "\n",
    "from matplotlib import pyplot as plt\n",
    "import seaborn as sns\n",
    "color = sns.color_palette()\n",
    "%matplotlib inline\n",
    "sns.set_style(\"darkgrid\")"
   ]
  },
  {
   "cell_type": "code",
   "execution_count": 18,
   "metadata": {},
   "outputs": [],
   "source": [
    "snowflake_username = 'matthew.bessey@disneystreaming.com'"
   ]
  },
  {
   "cell_type": "code",
   "execution_count": 19,
   "metadata": {},
   "outputs": [
    {
     "name": "stdout",
     "output_type": "stream",
     "text": [
      "Initiating login request with your identity provider. A browser window should have opened for you to complete the login. If you can't see it, check existing browser windows, or your OS settings. Press CTRL+C to abort and try again...\n"
     ]
    }
   ],
   "source": [
    "ctx = snowflake.connector.connect(authenticator='externalbrowser', \n",
    "                                  user=snowflake_username, \n",
    "                                  account='disneystreaming.us-east-1')"
   ]
  },
  {
   "cell_type": "code",
   "execution_count": 20,
   "metadata": {},
   "outputs": [],
   "source": [
    "query = \"\"\"\n",
    "select o.swid\n",
    ", o.swid_holdout\n",
    ", a.accountid\n",
    ", s.subscription_id\n",
    ", e.TOTAL_STREAMS_L1\n",
    ", e.total_streams_l7\n",
    ", e.is_entitled\n",
    ", e.NUM_STREAMING_DEVICES_L7\n",
    "from subscription s\n",
    "join account a on a.accountid = s.account_id\n",
    "join oneid_combined o on a.swid = o.swid\n",
    "join \"DSS_PROD\".\"DISNEY_PLUS\".\"DIM_DISNEY_DAILY_ACCOUNT_ENGAGEMENT\" e on a.accountid = e.account_id\n",
    "where s.partner = 'disney'\n",
    "--and s.is_entitled = 1\n",
    "and e.ds = '2019-12-12'\n",
    "limit 1000000;\n",
    "\"\"\""
   ]
  },
  {
   "cell_type": "code",
   "execution_count": 21,
   "metadata": {},
   "outputs": [],
   "source": [
    "engagement = pd.read_sql(query,ctx)"
   ]
  },
  {
   "cell_type": "code",
   "execution_count": 22,
   "metadata": {},
   "outputs": [],
   "source": [
    "engagement.columns = engagement.columns.str.lower()"
   ]
  },
  {
   "cell_type": "code",
   "execution_count": 23,
   "metadata": {},
   "outputs": [],
   "source": [
    "def holdout_grouping(df):\n",
    "    if df['swid_holdout'] < 243:\n",
    "        return \"all marketing\"\n",
    "    elif df['swid_holdout'] >= 243 and df['swid_holdout'] < 245:\n",
    "        return \"no onboarding\"\n",
    "    else:\n",
    "        return \"no marketing\""
   ]
  },
  {
   "cell_type": "code",
   "execution_count": 24,
   "metadata": {},
   "outputs": [],
   "source": [
    "engagement['marketing_holdout'] = engagement.apply(holdout_grouping,axis=1)\n",
    "#engagement.loc[engagement.swid_holdout < 244,'marketing_holdout'] = 'all marketing'\n",
    "#engagement.loc[(engagement.swid_holdout >= 244) & \n",
    "#               (engagement.swid_holdout < 260),'marketing_holdout'] = 'no onboarding'"
   ]
  },
  {
   "cell_type": "code",
   "execution_count": 9,
   "metadata": {},
   "outputs": [
    {
     "data": {
      "text/html": [
       "<div>\n",
       "<style scoped>\n",
       "    .dataframe tbody tr th:only-of-type {\n",
       "        vertical-align: middle;\n",
       "    }\n",
       "\n",
       "    .dataframe tbody tr th {\n",
       "        vertical-align: top;\n",
       "    }\n",
       "\n",
       "    .dataframe thead th {\n",
       "        text-align: right;\n",
       "    }\n",
       "</style>\n",
       "<table border=\"1\" class=\"dataframe\">\n",
       "  <thead>\n",
       "    <tr style=\"text-align: right;\">\n",
       "      <th></th>\n",
       "      <th>swid</th>\n",
       "      <th>swid_holdout</th>\n",
       "      <th>accountid</th>\n",
       "      <th>subscription_id</th>\n",
       "      <th>total_streams_l1</th>\n",
       "      <th>total_streams_l7</th>\n",
       "      <th>is_entitled</th>\n",
       "      <th>num_streaming_devices_l7</th>\n",
       "      <th>marketing_holdout</th>\n",
       "    </tr>\n",
       "  </thead>\n",
       "  <tbody>\n",
       "    <tr>\n",
       "      <th>0</th>\n",
       "      <td>{00103234-FF10-48D6-BCE2-8DC7BE9B2827}</td>\n",
       "      <td>99</td>\n",
       "      <td>c0666394-4674-4dc7-a86a-a4c82b612087</td>\n",
       "      <td>D2C:BAMTECH:urn:dss:disney:orders:7722ef81-693...</td>\n",
       "      <td>0</td>\n",
       "      <td>9</td>\n",
       "      <td>1</td>\n",
       "      <td>2</td>\n",
       "      <td>all marketing</td>\n",
       "    </tr>\n",
       "    <tr>\n",
       "      <th>1</th>\n",
       "      <td>{0050C902-AC50-4518-A2CF-DF92F3115C50}</td>\n",
       "      <td>207</td>\n",
       "      <td>7333a22d-269c-4678-af15-36e3685d471b</td>\n",
       "      <td>D2C:BAMTECH:urn:dss:disney:orders:218f84e5-ca6...</td>\n",
       "      <td>0</td>\n",
       "      <td>0</td>\n",
       "      <td>0</td>\n",
       "      <td>0</td>\n",
       "      <td>all marketing</td>\n",
       "    </tr>\n",
       "    <tr>\n",
       "      <th>2</th>\n",
       "      <td>{00918301-8286-4F9E-9596-659C96984277}</td>\n",
       "      <td>247</td>\n",
       "      <td>374a64ab-63e7-4c5c-ac9a-de227f5d08f4</td>\n",
       "      <td>D2C:BAMTECH:urn:dss:disney:orders:0d4eed5a-3e4...</td>\n",
       "      <td>0</td>\n",
       "      <td>3</td>\n",
       "      <td>1</td>\n",
       "      <td>1</td>\n",
       "      <td>no marketing</td>\n",
       "    </tr>\n",
       "    <tr>\n",
       "      <th>3</th>\n",
       "      <td>{0142889A-B679-437A-BC94-89804A99CE9F}</td>\n",
       "      <td>243</td>\n",
       "      <td>3f2172c8-8d04-46d9-8d92-5aa9d3630a04</td>\n",
       "      <td>D2C:BAMTECH:urn:dss:disney:orders:e216afa4-85a...</td>\n",
       "      <td>0</td>\n",
       "      <td>0</td>\n",
       "      <td>0</td>\n",
       "      <td>0</td>\n",
       "      <td>no onboarding</td>\n",
       "    </tr>\n",
       "    <tr>\n",
       "      <th>4</th>\n",
       "      <td>{01519336-83DD-4790-BBD6-AD71DEA54678}</td>\n",
       "      <td>143</td>\n",
       "      <td>0ec7511e-06b0-4acd-b02f-b0765bb14e4d</td>\n",
       "      <td>IAP:AMAZON:AuFlMAUfsLDgL_O8jDBpaXBnWasbsCSWJpd...</td>\n",
       "      <td>3</td>\n",
       "      <td>18</td>\n",
       "      <td>1</td>\n",
       "      <td>2</td>\n",
       "      <td>all marketing</td>\n",
       "    </tr>\n",
       "  </tbody>\n",
       "</table>\n",
       "</div>"
      ],
      "text/plain": [
       "                                     swid  swid_holdout  \\\n",
       "0  {00103234-FF10-48D6-BCE2-8DC7BE9B2827}            99   \n",
       "1  {0050C902-AC50-4518-A2CF-DF92F3115C50}           207   \n",
       "2  {00918301-8286-4F9E-9596-659C96984277}           247   \n",
       "3  {0142889A-B679-437A-BC94-89804A99CE9F}           243   \n",
       "4  {01519336-83DD-4790-BBD6-AD71DEA54678}           143   \n",
       "\n",
       "                              accountid  \\\n",
       "0  c0666394-4674-4dc7-a86a-a4c82b612087   \n",
       "1  7333a22d-269c-4678-af15-36e3685d471b   \n",
       "2  374a64ab-63e7-4c5c-ac9a-de227f5d08f4   \n",
       "3  3f2172c8-8d04-46d9-8d92-5aa9d3630a04   \n",
       "4  0ec7511e-06b0-4acd-b02f-b0765bb14e4d   \n",
       "\n",
       "                                     subscription_id  total_streams_l1  \\\n",
       "0  D2C:BAMTECH:urn:dss:disney:orders:7722ef81-693...                 0   \n",
       "1  D2C:BAMTECH:urn:dss:disney:orders:218f84e5-ca6...                 0   \n",
       "2  D2C:BAMTECH:urn:dss:disney:orders:0d4eed5a-3e4...                 0   \n",
       "3  D2C:BAMTECH:urn:dss:disney:orders:e216afa4-85a...                 0   \n",
       "4  IAP:AMAZON:AuFlMAUfsLDgL_O8jDBpaXBnWasbsCSWJpd...                 3   \n",
       "\n",
       "   total_streams_l7 is_entitled  num_streaming_devices_l7 marketing_holdout  \n",
       "0                 9           1                         2     all marketing  \n",
       "1                 0           0                         0     all marketing  \n",
       "2                 3           1                         1      no marketing  \n",
       "3                 0           0                         0     no onboarding  \n",
       "4                18           1                         2     all marketing  "
      ]
     },
     "execution_count": 9,
     "metadata": {},
     "output_type": "execute_result"
    }
   ],
   "source": [
    "engagement.head()"
   ]
  },
  {
   "cell_type": "code",
   "execution_count": 25,
   "metadata": {},
   "outputs": [],
   "source": [
    "engagement['active_binary_l1'] = engagement.apply(lambda df:\n",
    "                                                 1 if df['total_streams_l1'] > 0\n",
    "                                                 else 0,\n",
    "                                                 axis=1)"
   ]
  },
  {
   "cell_type": "code",
   "execution_count": 26,
   "metadata": {},
   "outputs": [],
   "source": [
    "engagement['active_binary_l7'] = engagement.apply(lambda df:\n",
    "                                                 1 if df['total_streams_l7'] > 0\n",
    "                                                 else 0,\n",
    "                                                 axis=1)"
   ]
  },
  {
   "cell_type": "code",
   "execution_count": 27,
   "metadata": {},
   "outputs": [
    {
     "data": {
      "text/html": [
       "<div>\n",
       "<style scoped>\n",
       "    .dataframe tbody tr th:only-of-type {\n",
       "        vertical-align: middle;\n",
       "    }\n",
       "\n",
       "    .dataframe tbody tr th {\n",
       "        vertical-align: top;\n",
       "    }\n",
       "\n",
       "    .dataframe thead th {\n",
       "        text-align: right;\n",
       "    }\n",
       "</style>\n",
       "<table border=\"1\" class=\"dataframe\">\n",
       "  <thead>\n",
       "    <tr style=\"text-align: right;\">\n",
       "      <th></th>\n",
       "      <th>swid_holdout</th>\n",
       "      <th>total_streams_l1</th>\n",
       "      <th>total_streams_l7</th>\n",
       "      <th>num_streaming_devices_l7</th>\n",
       "      <th>active_binary_l1</th>\n",
       "      <th>active_binary_l7</th>\n",
       "    </tr>\n",
       "    <tr>\n",
       "      <th>marketing_holdout</th>\n",
       "      <th></th>\n",
       "      <th></th>\n",
       "      <th></th>\n",
       "      <th></th>\n",
       "      <th></th>\n",
       "      <th></th>\n",
       "    </tr>\n",
       "  </thead>\n",
       "  <tbody>\n",
       "    <tr>\n",
       "      <th>all marketing</th>\n",
       "      <td>120.989641</td>\n",
       "      <td>1.961209</td>\n",
       "      <td>15.839881</td>\n",
       "      <td>1.654915</td>\n",
       "      <td>0.373771</td>\n",
       "      <td>0.758165</td>\n",
       "    </tr>\n",
       "    <tr>\n",
       "      <th>no marketing</th>\n",
       "      <td>250.016855</td>\n",
       "      <td>1.948920</td>\n",
       "      <td>15.773456</td>\n",
       "      <td>1.643166</td>\n",
       "      <td>0.374343</td>\n",
       "      <td>0.759426</td>\n",
       "    </tr>\n",
       "    <tr>\n",
       "      <th>no onboarding</th>\n",
       "      <td>243.497691</td>\n",
       "      <td>1.977932</td>\n",
       "      <td>15.828586</td>\n",
       "      <td>1.637028</td>\n",
       "      <td>0.379779</td>\n",
       "      <td>0.753272</td>\n",
       "    </tr>\n",
       "  </tbody>\n",
       "</table>\n",
       "</div>"
      ],
      "text/plain": [
       "                   swid_holdout  total_streams_l1  total_streams_l7  \\\n",
       "marketing_holdout                                                     \n",
       "all marketing        120.989641          1.961209         15.839881   \n",
       "no marketing         250.016855          1.948920         15.773456   \n",
       "no onboarding        243.497691          1.977932         15.828586   \n",
       "\n",
       "                   num_streaming_devices_l7  active_binary_l1  \\\n",
       "marketing_holdout                                               \n",
       "all marketing                      1.654915          0.373771   \n",
       "no marketing                       1.643166          0.374343   \n",
       "no onboarding                      1.637028          0.379779   \n",
       "\n",
       "                   active_binary_l7  \n",
       "marketing_holdout                    \n",
       "all marketing              0.758165  \n",
       "no marketing               0.759426  \n",
       "no onboarding              0.753272  "
      ]
     },
     "execution_count": 27,
     "metadata": {},
     "output_type": "execute_result"
    }
   ],
   "source": [
    "engagement.groupby(['marketing_holdout']).mean()"
   ]
  },
  {
   "cell_type": "code",
   "execution_count": 28,
   "metadata": {},
   "outputs": [],
   "source": [
    "t1, p1 = stats.ttest_ind(engagement.loc[engagement['marketing_holdout']=='all marketing','total_streams_l1'],\n",
    "                        engagement.loc[engagement.marketing_holdout=='no onboarding','total_streams_l1'])"
   ]
  },
  {
   "cell_type": "code",
   "execution_count": 29,
   "metadata": {},
   "outputs": [
    {
     "name": "stdout",
     "output_type": "stream",
     "text": [
      "-0.3327132507892619 0.7393508190745295\n"
     ]
    }
   ],
   "source": [
    "print(t1,p1)"
   ]
  }
 ],
 "metadata": {
  "kernelspec": {
   "display_name": "Python 3",
   "language": "python",
   "name": "python3"
  },
  "language_info": {
   "codemirror_mode": {
    "name": "ipython",
    "version": 3
   },
   "file_extension": ".py",
   "mimetype": "text/x-python",
   "name": "python",
   "nbconvert_exporter": "python",
   "pygments_lexer": "ipython3",
   "version": "3.7.0"
  }
 },
 "nbformat": 4,
 "nbformat_minor": 2
}
